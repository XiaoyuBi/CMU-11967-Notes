{
 "cells": [
  {
   "cell_type": "markdown",
   "metadata": {},
   "source": [
    "# Week 3 - Activity 1: FineWeb Educationality Classifier\n",
    "\n",
    "In this activity, we'll explore the FineWeb educationality classifier to understand how it distinguishes between educational and non-educational content. We'll:\n",
    "\n",
    "1. Set up and run the classifier\n",
    "2. Test it on various types of content\n",
    "3. Analyze cases where it succeeds and fails\n",
    "\n",
    "Reference: [FineWeb: A Fine-grained, Lightweight Dataset and Benchmark for Web Page Quality Assessment](https://arxiv.org/abs/2310.14160)"
   ]
  },
  {
   "cell_type": "code",
   "execution_count": 1,
   "metadata": {},
   "outputs": [
    {
     "name": "stderr",
     "output_type": "stream",
     "text": [
      "/Users/xiaoyubi/.pyenv/versions/3.11.11/lib/python3.11/site-packages/tqdm/auto.py:21: TqdmWarning: IProgress not found. Please update jupyter and ipywidgets. See https://ipywidgets.readthedocs.io/en/stable/user_install.html\n",
      "  from .autonotebook import tqdm as notebook_tqdm\n"
     ]
    }
   ],
   "source": [
    "from transformers import AutoTokenizer, AutoModelForSequenceClassification\n",
    "\n",
    "model_name = \"HuggingFaceFW/fineweb-edu-classifier\"\n",
    "\n",
    "tokenizer = AutoTokenizer.from_pretrained(model_name)\n",
    "model = AutoModelForSequenceClassification.from_pretrained(model_name)\n",
    "\n",
    "def classify_text(text):\n",
    "    inputs = tokenizer(text, return_tensors=\"pt\", truncation=True, max_length=512)\n",
    "    outputs = model(**inputs)\n",
    "    score = outputs.logits.squeeze(-1).float().detach().numpy().item()\n",
    "    return {\n",
    "        \"text\": text,\n",
    "        \"score\": score,\n",
    "        \"int_score\": int(round(max(0, min(score, 5)))),\n",
    "        \"is_educational\": score >= 3  # As recommended in the model card\n",
    "    }"
   ]
  },
  {
   "cell_type": "markdown",
   "metadata": {},
   "source": [
    "## 2. Test Cases: Educational Content\n",
    "\n",
    "Let's try some examples that should be classified as educational:"
   ]
  },
  {
   "cell_type": "code",
   "execution_count": 2,
   "metadata": {},
   "outputs": [
    {
     "name": "stdout",
     "output_type": "stream",
     "text": [
      "Educational Content Classification Results:\n",
      "\n",
      "Example 1:\n",
      "Raw score: 3.596\n",
      "Integer score: 4\n",
      "Is educational: True\n",
      "\n",
      "Example 2:\n",
      "Raw score: 3.749\n",
      "Integer score: 4\n",
      "Is educational: True\n",
      "\n",
      "Example 3:\n",
      "Raw score: 2.011\n",
      "Integer score: 2\n",
      "Is educational: False\n"
     ]
    }
   ],
   "source": [
    "educational_examples = [\n",
    "    # Tutorial-style content\n",
    "    \"\"\"\n",
    "    Introduction to Python Programming\n",
    "    \n",
    "    Python is a high-level programming language known for its simplicity and readability.\n",
    "    In this tutorial, we'll cover:\n",
    "    1. Basic syntax\n",
    "    2. Variables and data types\n",
    "    3. Control structures\n",
    "    \n",
    "    Let's start with a simple example:\n",
    "    x = 5\n",
    "    y = 10\n",
    "    print(x + y)\n",
    "    \"\"\",\n",
    "    \n",
    "    # Academic content\n",
    "    \"\"\"\n",
    "    The Theory of Relativity\n",
    "    \n",
    "    Einstein's theory of relativity consists of two interrelated theories: special relativity and general relativity.\n",
    "    The theory fundamentally changed our understanding of space, time, gravity, and the universe itself.\n",
    "    \"\"\",\n",
    "    \n",
    "    # Documentation\n",
    "    \"\"\"\n",
    "    API Documentation\n",
    "    \n",
    "    Function: calculate_mean(numbers: List[float]) -> float\n",
    "    Description: Calculates the arithmetic mean of a list of numbers\n",
    "    Parameters:\n",
    "        - numbers: A list of floating-point numbers\n",
    "    Returns:\n",
    "        - The arithmetic mean as a float\n",
    "    \"\"\"\n",
    "]\n",
    "\n",
    "print(\"Educational Content Classification Results:\")\n",
    "for i, text in enumerate(educational_examples, 1):\n",
    "    result = classify_text(text)\n",
    "    print(f\"\\nExample {i}:\")\n",
    "    print(f\"Raw score: {result['score']:.3f}\")\n",
    "    print(f\"Integer score: {result['int_score']}\")\n",
    "    print(f\"Is educational: {result['is_educational']}\")"
   ]
  },
  {
   "cell_type": "markdown",
   "metadata": {},
   "source": [
    "## 3. Test Cases: Non-Educational Content\n",
    "\n",
    "Now let's try some examples that might be good for language model training but aren't strictly educational:"
   ]
  },
  {
   "cell_type": "code",
   "execution_count": 7,
   "metadata": {},
   "outputs": [
    {
     "name": "stdout",
     "output_type": "stream",
     "text": [
      "Non-Educational Content Classification Results:\n",
      "\n",
      "Example 1:\n",
      "Raw score: 0.214\n",
      "Integer score: 0\n",
      "Is educational: False\n",
      "\n",
      "Example 2:\n",
      "Raw score: 0.504\n",
      "Integer score: 1\n",
      "Is educational: False\n",
      "\n",
      "Example 3:\n",
      "Raw score: 0.451\n",
      "Integer score: 0\n",
      "Is educational: False\n",
      "\n",
      "Example 4:\n",
      "Raw score: 1.636\n",
      "Integer score: 2\n",
      "Is educational: False\n"
     ]
    }
   ],
   "source": [
    "non_educational_examples = [\n",
    "    # News article\n",
    "    \"\"\"\n",
    "    Breaking News: Tech Company Announces New Product\n",
    "    \n",
    "    Silicon Valley's leading tech company unveiled their latest smartphone today,\n",
    "    featuring improved camera capabilities and longer battery life.\n",
    "    The announcement caused their stock price to rise by 5%.\n",
    "    \"\"\",\n",
    "    \n",
    "    # Blog post\n",
    "    \"\"\"\n",
    "    My Journey as a Software Developer\n",
    "    \n",
    "    When I started coding ten years ago, I never imagined where this path would lead me.\n",
    "    Through ups and downs, I've learned that persistence is key to success in this field.\n",
    "    \"\"\",\n",
    "    \n",
    "    # Technical discussion\n",
    "    \"\"\"\n",
    "    Code Review Discussion\n",
    "    \n",
    "    I think we should refactor this module to use dependency injection.\n",
    "    It would make the code more testable and reduce coupling between components.\n",
    "    What do you think about this approach?\n",
    "    \"\"\",\n",
    "\n",
    "    # Custom\n",
    "    \"\"\"\n",
    "    联合国教育、科学及文化组织（法語：Organisation des Nations unies pour l'éducation, \n",
    "    la science et la culture，罕缩写作 ONUESC ；英語：United Nations Educational, \n",
    "    Scientific and Cultural Organization，縮寫作 UNESCO），简称联合国教科文组织，是一个联合国专门机构[1]，\n",
    "    成立于1945年11月16日，总部设於法国巴黎。\n",
    "    \"\"\"\n",
    "]\n",
    "\n",
    "print(\"Non-Educational Content Classification Results:\")\n",
    "for i, text in enumerate(non_educational_examples, 1):\n",
    "    result = classify_text(text)\n",
    "    print(f\"\\nExample {i}:\")\n",
    "    print(f\"Raw score: {result['score']:.3f}\")\n",
    "    print(f\"Integer score: {result['int_score']}\")\n",
    "    print(f\"Is educational: {result['is_educational']}\")"
   ]
  },
  {
   "cell_type": "markdown",
   "metadata": {},
   "source": [
    "## 4. Edge Cases\n",
    "\n",
    "Let's test some interesting edge cases that might challenge the classifier:"
   ]
  },
  {
   "cell_type": "code",
   "execution_count": 4,
   "metadata": {},
   "outputs": [
    {
     "name": "stdout",
     "output_type": "stream",
     "text": [
      "Edge Cases Classification Results:\n",
      "\n",
      "Example 1:\n",
      "Raw score: 0.849\n",
      "Integer score: 1\n",
      "Is educational: False\n",
      "\n",
      "Example 2:\n",
      "Raw score: 0.799\n",
      "Integer score: 1\n",
      "Is educational: False\n",
      "\n",
      "Example 3:\n",
      "Raw score: 0.560\n",
      "Integer score: 1\n",
      "Is educational: False\n"
     ]
    }
   ],
   "source": [
    "edge_cases = [\n",
    "    # Educational but informal\n",
    "    \"\"\"\n",
    "    Hey everyone! 👋 Today I'm gonna show you how to make the BEST chocolate chip cookies ever!\n",
    "    First, we need to understand the science behind what makes cookies chewy vs crispy...\n",
    "    \"\"\",\n",
    "    \n",
    "    # Technical but conversational\n",
    "    \"\"\"\n",
    "    Q: Why isn't my neural network learning?\n",
    "    A: Have you checked your learning rate? Sometimes if it's too high, the model won't converge.\n",
    "    Try reducing it by a factor of 10 and see what happens.\n",
    "    \"\"\",\n",
    "    \n",
    "    # Mixed content\n",
    "    \"\"\"\n",
    "    Product Documentation and Updates\n",
    "    \n",
    "    NEW FEATURES:\n",
    "    - Dark mode support\n",
    "    - Improved performance\n",
    "    \n",
    "    TUTORIAL:\n",
    "    To enable dark mode, follow these steps:\n",
    "    1. Open settings\n",
    "    2. Navigate to Display\n",
    "    3. Toggle 'Dark Mode'\n",
    "    \"\"\"\n",
    "]\n",
    "\n",
    "print(\"Edge Cases Classification Results:\")\n",
    "for i, text in enumerate(edge_cases, 1):\n",
    "    result = classify_text(text)\n",
    "    print(f\"\\nExample {i}:\")\n",
    "    print(f\"Raw score: {result['score']:.3f}\")\n",
    "    print(f\"Integer score: {result['int_score']}\")\n",
    "    print(f\"Is educational: {result['is_educational']}\")"
   ]
  },
  {
   "cell_type": "markdown",
   "metadata": {},
   "source": [
    "## Discussion Points\n",
    "\n",
    "1. What patterns do you notice in content that's classified as educational?\n",
    "   - Formal structure (e.g., step-by-step format, clear sections)\n",
    "   - Academic language and terminology\n",
    "   - Clear learning objectives or instructional intent\n",
    "   - Systematic presentation of information\n",
    "\n",
    "2. What are some examples where the classifier might be too strict?\n",
    "   - Informal educational content (e.g., cooking tutorials)\n",
    "   - Q&A style learning materials\n",
    "   - Technical discussions with educational value\n",
    "   - Mixed content with both tutorial and product information\n",
    "\n",
    "3. How might this affect the quality of training data for language models?\n",
    "   - Bias towards formal academic content\n",
    "   - Potential loss of valuable informal educational content\n",
    "   - Limited exposure to real-world learning scenarios\n",
    "   - Reduced diversity in educational styles\n",
    "\n",
    "4. How would you improve the classifier?\n",
    "   - Add support for different educational styles (formal vs. informal)\n",
    "   - Consider context and intent more heavily\n",
    "   - Implement multi-label classification for mixed content\n",
    "   - Add domain-specific considerations\n",
    "   - Consider audience level in classification"
   ]
  }
 ],
 "metadata": {
  "kernelspec": {
   "display_name": "3.11.11",
   "language": "python",
   "name": "python3"
  },
  "language_info": {
   "codemirror_mode": {
    "name": "ipython",
    "version": 3
   },
   "file_extension": ".py",
   "mimetype": "text/x-python",
   "name": "python",
   "nbconvert_exporter": "python",
   "pygments_lexer": "ipython3",
   "version": "3.11.11"
  }
 },
 "nbformat": 4,
 "nbformat_minor": 4
}
